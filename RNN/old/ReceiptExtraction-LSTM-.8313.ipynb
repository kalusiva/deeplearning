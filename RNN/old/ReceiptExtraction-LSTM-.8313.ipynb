{
 "cells": [
  {
   "cell_type": "code",
   "execution_count": 1,
   "metadata": {},
   "outputs": [
    {
     "name": "stderr",
     "output_type": "stream",
     "text": [
      "Using TensorFlow backend.\n"
     ]
    }
   ],
   "source": [
    "import os, json\n",
    "import pandas as pd\n",
    "import seaborn as sns\n",
    "from matplotlib import pyplot as plt\n",
    "from keras.models import Sequential\n",
    "from keras.layers import Embedding\n",
    "from keras.layers import Dense, Input\n",
    "from keras.layers import TimeDistributed\n",
    "from keras.layers import LSTM, GRU, Bidirectional, SimpleRNN, RNN\n",
    "from keras.models import Model \n"
   ]
  },
  {
   "cell_type": "code",
   "execution_count": 2,
   "metadata": {},
   "outputs": [],
   "source": [
    "# this finds our json files\n",
    "path_to_json = 'CORD/train/json/'\n",
    "json_files = [pos_json for pos_json in os.listdir(path_to_json) if pos_json.endswith('.json')]\n",
    "\n",
    "# here I define my pandas Dataframe with the columns I want to get from the json\n",
    "jsons_data = pd.DataFrame(columns=['validline'])\n",
    "\n",
    "f = open(\"receipt_words.csv\", \"w\")\n",
    "print(\"filename\",\",\",\"index\",\",\",\"x1\",\",\",'x2',\",\",'x3',\",\",'x4',\",\",'y1',\",\",'y2',\",\",'y3',\",\",'y4',\",\",'is_key',\",\",'row_id',\",\",'text',\",\",'category',\",\",\"group_id\",file=f)\n",
    "\n",
    "\n",
    "# we need both the json and an index number so use enumerate()\n",
    "for index, js in enumerate(json_files):\n",
    "    with open(os.path.join(path_to_json, js)) as json_file:\n",
    "        json_text = json.load(json_file)\n",
    "        \n",
    "       # print(json_text)\n",
    "\n",
    "        # here you need to know the layout of your json and each json has to have\n",
    "        # the same structure (obviously not the structure I have here)\n",
    "        lines = json_text['valid_line']\n",
    "        \n",
    "        for x in lines:\n",
    "            words = x['words']\n",
    "            category = x['category']\n",
    "            group_id = x['group_id']\n",
    "            for y in words:\n",
    "                print(js,index,y['quad']['x1'],y['quad']['x2'],y['quad']['x3'],y['quad']['x4'],y['quad']['y1'],y['quad']['y2'],y['quad']['y3'],y['quad']['y4'],y['is_key'],y['row_id'],\"\\\"\"+y['text']+\"\\\"\",category,group_id,file=f,sep=\",\")\n",
    "\n",
    "       # city = json_text['features'][0]['properties']['name']\n",
    "        #lonlat = json_text['features'][0]['geometry']['coordinates']\n",
    "        # here I push a list of data into a pandas DataFrame at row given by 'index'\n",
    "        #f.close()\n",
    "        #jsons_data.loc[index] = [words, city, lonlat]\n",
    "\n",
    "# now that we have the pertinent json data in our DataFrame let's look at it\n",
    "f.close()"
   ]
  },
  {
   "cell_type": "code",
   "execution_count": 3,
   "metadata": {},
   "outputs": [],
   "source": [
    "import pandas as pd\n",
    "receipts_df = pd.read_csv(\"receipt_words.csv\")\n",
    "receipts_df.columns = receipts_df.columns.str.strip()\n",
    "receipts_df['text'] = receipts_df['text'].str.strip()\n"
   ]
  },
  {
   "cell_type": "code",
   "execution_count": null,
   "metadata": {},
   "outputs": [],
   "source": []
  },
  {
   "cell_type": "code",
   "execution_count": 4,
   "metadata": {},
   "outputs": [],
   "source": [
    "char2idx = {\"START\":0,\"END\":1,\"a\":2,\"b\":3,\"c\":4,\"d\":5,\"e\":6,\"f\":7,\"g\":8,\"h\":9,\"i\":10,\"j\":11,\"k\":12,\"l\":13,\"m\":14,\"n\":15,\"o\":16,\"p\":17,\"q\":18,\"r\":19,\"s\":20,\"t\":21,\"u\":22,\"v\":23,\"w\":24,\"x\":25,\"y\":26,\"z\":27,\"0\":28,\"1\":29,\"2\":30,\"3\":31,\"4\":32,\"5\":33,\"6\":34,\"7\":35,\"8\":36,\"9\":37,\".\":38,\"-\":39,\",\":40,\":\":41,\" \":42}"
   ]
  },
  {
   "cell_type": "code",
   "execution_count": 5,
   "metadata": {},
   "outputs": [],
   "source": [
    "#p_test.SentimentText=p_test.SentimentText.astype(str)\n",
    "receipts_df.text = receipts_df.text.astype(str)\n"
   ]
  },
  {
   "cell_type": "code",
   "execution_count": 6,
   "metadata": {},
   "outputs": [],
   "source": [
    "words = receipts_df['text']"
   ]
  },
  {
   "cell_type": "code",
   "execution_count": null,
   "metadata": {},
   "outputs": [],
   "source": []
  },
  {
   "cell_type": "code",
   "execution_count": 7,
   "metadata": {},
   "outputs": [],
   "source": [
    "indexed_words = []\n",
    "j=43\n",
    "for word in words:\n",
    "    indexed_word = []\n",
    "    #print(word)\n",
    "    word = word.lower();\n",
    "    for i in range(len(word)):\n",
    "        token = word[i]\n",
    "        if token not in char2idx:\n",
    "            char2idx[token] = j\n",
    "            j += 1\n",
    "        indexed_word.append(char2idx[token])\n",
    "    indexed_words.append(indexed_word)\n",
    "\n",
    "receipts_df[\"indexed_words\"] = indexed_words;"
   ]
  },
  {
   "cell_type": "code",
   "execution_count": null,
   "metadata": {},
   "outputs": [],
   "source": []
  },
  {
   "cell_type": "code",
   "execution_count": 8,
   "metadata": {},
   "outputs": [],
   "source": [
    "import numpy as np\n",
    "def get_bigram_probs(words, V, start_idx, end_idx, smoothing=1):\n",
    "  # structure of bigram probability matrix will be:\n",
    "  # (last word, current word) --> probability\n",
    "  # we will use add-1 smoothing\n",
    "  # note: we'll always ignore this from the END token\n",
    "  bigram_probs = np.ones((V, V)) * smoothing\n",
    "  for word in words:\n",
    "    for i in range(len(word)):\n",
    "      \n",
    "      if i == 0:\n",
    "        # beginning word\n",
    "        word[i]\n",
    "        bigram_probs[start_idx, word[i]] += 1\n",
    "      else:\n",
    "        # middle word\n",
    "        bigram_probs[word[i-1], word[i]] += 1\n",
    "\n",
    "      # if we're at the final word\n",
    "      # we update the bigram for last -> current\n",
    "      # AND current -> END token\n",
    "      if i == len(word) - 1:\n",
    "        # final word\n",
    "        bigram_probs[word[i], end_idx] += 1\n",
    "\n",
    "  # normalize the counts along the rows to get probabilities\n",
    "  bigram_probs /= bigram_probs.sum(axis=1, keepdims=True)\n",
    "  return bigram_probs"
   ]
  },
  {
   "cell_type": "code",
   "execution_count": 9,
   "metadata": {},
   "outputs": [],
   "source": [
    "start_idx = char2idx['START']\n",
    "end_idx = char2idx['END']\n",
    "V = len(char2idx)\n",
    "\n"
   ]
  },
  {
   "cell_type": "code",
   "execution_count": 10,
   "metadata": {},
   "outputs": [],
   "source": [
    "bigram_probs = get_bigram_probs(indexed_words, V, start_idx, end_idx, smoothing=0.1)"
   ]
  },
  {
   "cell_type": "code",
   "execution_count": null,
   "metadata": {},
   "outputs": [],
   "source": []
  },
  {
   "cell_type": "code",
   "execution_count": 11,
   "metadata": {},
   "outputs": [],
   "source": [
    " # a function to calculate normalized log prob score\n",
    "  # for a sentence\n",
    "def get_score(word):\n",
    "    #print(\"word\")\n",
    "    #print(word)\n",
    "    score = 0\n",
    "    if len(word) > 0 :\n",
    "        for i in range(len(word)):\n",
    "          if i == 0:\n",
    "            # beginning word\n",
    "            score += np.log(bigram_probs[start_idx, word[i]])\n",
    "          else:\n",
    "            # middle word\n",
    "            score += np.log(bigram_probs[word[i-1], word[i]])\n",
    "        # final word\n",
    "        score += np.log(bigram_probs[word[i-1], end_idx])\n",
    "\n",
    "    # normalize the score\n",
    "    # return score / (len(word) + 1)\n",
    "    if score == 0:\n",
    "        return score;\n",
    "    else :\n",
    "        return  ((-1)*(len(word) + 1)/score)*100"
   ]
  },
  {
   "cell_type": "code",
   "execution_count": 12,
   "metadata": {},
   "outputs": [],
   "source": [
    "from future.utils import iteritems\n",
    "\n",
    "idx2char = dict((v, k) for k, v in iteritems(char2idx))\n",
    "def get_word(word):\n",
    "    return ''.join(idx2char[i] for i in word)"
   ]
  },
  {
   "cell_type": "code",
   "execution_count": null,
   "metadata": {},
   "outputs": [],
   "source": []
  },
  {
   "cell_type": "code",
   "execution_count": 13,
   "metadata": {},
   "outputs": [],
   "source": [
    "receipts_df['text_score'] = receipts_df.apply(lambda row : get_score(row['indexed_words']), axis = 1)"
   ]
  },
  {
   "cell_type": "code",
   "execution_count": null,
   "metadata": {},
   "outputs": [],
   "source": []
  },
  {
   "cell_type": "code",
   "execution_count": 14,
   "metadata": {},
   "outputs": [],
   "source": [
    "categories = receipts_df['category'] \n",
    "category2idx = {}\n",
    "idx2category = {}\n",
    "j=0;\n",
    "for category in categories:\n",
    "    if category not in category2idx:\n",
    "        category2idx[category] = j\n",
    "        idx2category[j] = category\n",
    "        j+=1\n",
    "\n",
    "category2idx\n",
    "\n",
    "def get_index_for_category(category):\n",
    "    return category2idx[category]\n",
    "\n",
    "\n",
    "def get_category_for_index(index):\n",
    "    return idx2category[index]\n",
    "        "
   ]
  },
  {
   "cell_type": "code",
   "execution_count": 15,
   "metadata": {},
   "outputs": [],
   "source": [
    "receipts_df['category_idx'] = receipts_df.apply(lambda row : get_index_for_category(row['category']), axis = 1)\n"
   ]
  },
  {
   "cell_type": "code",
   "execution_count": 16,
   "metadata": {},
   "outputs": [],
   "source": [
    "data_1 = receipts_df[['row_id','text_score','category_idx','index']].sort_values([\"index\", \"row_id\"], ascending = (True, True))\n"
   ]
  },
  {
   "cell_type": "code",
   "execution_count": 17,
   "metadata": {},
   "outputs": [
    {
     "data": {
      "text/plain": [
       "(18958, 4)"
      ]
     },
     "execution_count": 17,
     "metadata": {},
     "output_type": "execute_result"
    }
   ],
   "source": [
    "data_1.shape"
   ]
  },
  {
   "cell_type": "code",
   "execution_count": 18,
   "metadata": {},
   "outputs": [],
   "source": [
    "X_1 = []\n",
    "Y_1 = []\n",
    "tmp_feature = []\n",
    "tmp_output = []"
   ]
  },
  {
   "cell_type": "code",
   "execution_count": 19,
   "metadata": {},
   "outputs": [],
   "source": [
    "prevIndx = -1;\n",
    "for ind in data_1.index: \n",
    "    #print (data_1['index'][ind])\n",
    "    #print (prevIndx)\n",
    "    if ( data_1['index'][ind] != prevIndx):\n",
    "        prevIndx = data_1['index'][ind]\n",
    "        tmp_feature = []\n",
    "        tmp_output = []\n",
    "        if(prevIndx !=  -1):\n",
    "            X_1.append(tmp_feature)\n",
    "            Y_1.append(tmp_output)\n",
    "    tmp_feature.append(data_1['text_score'][ind])\n",
    "    tmp_output.append(data_1['text_score'][ind])\n",
    "        "
   ]
  },
  {
   "cell_type": "code",
   "execution_count": 20,
   "metadata": {},
   "outputs": [
    {
     "data": {
      "text/plain": [
       "787"
      ]
     },
     "execution_count": 20,
     "metadata": {},
     "output_type": "execute_result"
    }
   ],
   "source": [
    "len(X_1)"
   ]
  },
  {
   "cell_type": "code",
   "execution_count": 21,
   "metadata": {},
   "outputs": [
    {
     "data": {
      "text/plain": [
       "787"
      ]
     },
     "execution_count": 21,
     "metadata": {},
     "output_type": "execute_result"
    }
   ],
   "source": [
    "len(Y_1)"
   ]
  },
  {
   "cell_type": "code",
   "execution_count": 22,
   "metadata": {},
   "outputs": [
    {
     "name": "stdout",
     "output_type": "stream",
     "text": [
      "0 sentences have disparate input-output lengths.\n"
     ]
    }
   ],
   "source": [
    "different_length = [1 if len(input) != len(output) else 0 for input, output in zip(X_1, Y_1)]\n",
    "print(\"{} sentences have disparate input-output lengths.\".format(sum(different_length)))"
   ]
  },
  {
   "cell_type": "code",
   "execution_count": 23,
   "metadata": {},
   "outputs": [
    {
     "name": "stdout",
     "output_type": "stream",
     "text": [
      "Length of longest sentence: 135\n"
     ]
    }
   ],
   "source": [
    "lengths = [len(seq) for seq in X_1]\n",
    "print(\"Length of longest sentence: {}\".format(max(lengths)))"
   ]
  },
  {
   "cell_type": "code",
   "execution_count": 24,
   "metadata": {},
   "outputs": [
    {
     "data": {
      "image/png": "[encoded data removed]",
      "text/plain": [
       "<Figure size 432x288 with 1 Axes>"
      ]
     },
     "metadata": {
      "needs_background": "light"
     },
     "output_type": "display_data"
    }
   ],
   "source": [
    "\n",
    "sns.boxplot(lengths)\n",
    "plt.show()"
   ]
  },
  {
   "cell_type": "code",
   "execution_count": 25,
   "metadata": {},
   "outputs": [],
   "source": [
    "from keras.preprocessing.sequence import pad_sequences\n",
    "\n",
    "MAX_SEQ_LENGTH = max(lengths)  # sequences greater than 100 in length will be truncated\n",
    "\n",
    "X_padded = pad_sequences(X_1, maxlen=MAX_SEQ_LENGTH, padding=\"pre\", truncating=\"post\")\n",
    "Y_padded = pad_sequences(Y_1, maxlen=MAX_SEQ_LENGTH, padding=\"pre\", truncating=\"post\")"
   ]
  },
  {
   "cell_type": "code",
   "execution_count": 26,
   "metadata": {},
   "outputs": [
    {
     "data": {
      "text/plain": [
       "(787, 135)"
      ]
     },
     "execution_count": 26,
     "metadata": {},
     "output_type": "execute_result"
    }
   ],
   "source": [
    "Y_padded.shape"
   ]
  },
  {
   "cell_type": "code",
   "execution_count": 27,
   "metadata": {},
   "outputs": [
    {
     "data": {
      "text/plain": [
       "(787, 135)"
      ]
     },
     "execution_count": 27,
     "metadata": {},
     "output_type": "execute_result"
    }
   ],
   "source": [
    "X_padded.shape"
   ]
  },
  {
   "cell_type": "code",
   "execution_count": 28,
   "metadata": {},
   "outputs": [],
   "source": [
    "from keras.utils.np_utils import to_categorical\n",
    "from sklearn.model_selection import train_test_split\n",
    "\n",
    "Y_padded = to_categorical(Y_padded)"
   ]
  },
  {
   "cell_type": "code",
   "execution_count": 29,
   "metadata": {},
   "outputs": [],
   "source": [
    "X, Y = X_padded, Y_padded\n",
    "VALID_SIZE = 0.15\n",
    "X_train, X_validation, Y_train, Y_validation = train_test_split(X_padded, Y_padded, test_size=VALID_SIZE, random_state=4)"
   ]
  },
  {
   "cell_type": "code",
   "execution_count": 30,
   "metadata": {},
   "outputs": [
    {
     "data": {
      "text/plain": [
       "(787, 135, 96)"
      ]
     },
     "execution_count": 30,
     "metadata": {},
     "output_type": "execute_result"
    }
   ],
   "source": [
    "Y_padded.shape"
   ]
  },
  {
   "cell_type": "code",
   "execution_count": 31,
   "metadata": {},
   "outputs": [],
   "source": [
    "\n",
    "\n",
    "# create architecture\n",
    "VOCABULARY_SIZE = 135\n",
    "EMBEDDING_SIZE = 135\n",
    "MAX_SEQ_LENGTH = 135\n",
    "NUM_CLASSES = Y.shape[2]\n",
    "rnn_model = Sequential()\n",
    "\n",
    "# create embedding layer - usually the first layer in text problems\n",
    "rnn_model.add(Embedding(input_dim     =  VOCABULARY_SIZE,         # vocabulary size - number of unique words in data\n",
    "                        output_dim    =  EMBEDDING_SIZE,          # length of vector with which each word is represented\n",
    "                        input_length  =  MAX_SEQ_LENGTH,          # length of input sequence\n",
    "                        trainable     =  False                    # False - don't update the embeddings\n",
    "))\n",
    "\n",
    "# add an RNN layer which contains 64 RNN cells\n",
    "rnn_model.add(LSTM(64, \n",
    "              return_sequences=True  # True - return whole sequence; False - return single output of the end of the sequence\n",
    "))\n",
    "\n",
    "# add time distributed (output at each sequence) layer\n",
    "rnn_model.add(TimeDistributed(Dense(NUM_CLASSES, activation='softmax')))"
   ]
  },
  {
   "cell_type": "code",
   "execution_count": 34,
   "metadata": {},
   "outputs": [
    {
     "name": "stdout",
     "output_type": "stream",
     "text": [
      "Model: \"sequential_1\"\n",
      "_________________________________________________________________\n",
      "Layer (type)                 Output Shape              Param #   \n",
      "=================================================================\n",
      "embedding_1 (Embedding)      (None, 135, 135)          18225     \n",
      "_________________________________________________________________\n",
      "lstm_1 (LSTM)                (None, 135, 64)           51200     \n",
      "_________________________________________________________________\n",
      "time_distributed_1 (TimeDist (None, 135, 96)           6240      \n",
      "=================================================================\n",
      "Total params: 75,665\n",
      "Trainable params: 57,440\n",
      "Non-trainable params: 18,225\n",
      "_________________________________________________________________\n",
      "Train on 668 samples, validate on 119 samples\n",
      "Epoch 1/30\n",
      "668/668 [==============================] - 13s 19ms/step - loss: 0.6720 - acc: 0.8386 - val_loss: 0.6679 - val_acc: 0.8415\n",
      "Epoch 2/30\n",
      "668/668 [==============================] - 10s 15ms/step - loss: 0.6577 - acc: 0.8428 - val_loss: 0.6614 - val_acc: 0.8414\n",
      "Epoch 3/30\n",
      "668/668 [==============================] - 10s 16ms/step - loss: 0.6480 - acc: 0.8428 - val_loss: 0.6472 - val_acc: 0.8421\n",
      "Epoch 4/30\n",
      "668/668 [==============================] - 11s 16ms/step - loss: 0.6371 - acc: 0.8450 - val_loss: 0.6365 - val_acc: 0.8436\n",
      "Epoch 5/30\n",
      "668/668 [==============================] - 11s 16ms/step - loss: 0.6268 - acc: 0.8516 - val_loss: 0.6267 - val_acc: 0.8494\n",
      "Epoch 6/30\n",
      "668/668 [==============================] - 11s 16ms/step - loss: 0.6166 - acc: 0.8550 - val_loss: 0.6167 - val_acc: 0.8568\n",
      "Epoch 7/30\n",
      "668/668 [==============================] - 11s 16ms/step - loss: 0.6063 - acc: 0.8682 - val_loss: 0.6061 - val_acc: 0.8697\n",
      "Epoch 8/30\n",
      "668/668 [==============================] - 11s 17ms/step - loss: 0.5946 - acc: 0.8787 - val_loss: 0.5940 - val_acc: 0.8794\n",
      "Epoch 9/30\n",
      "668/668 [==============================] - 11s 16ms/step - loss: 0.5819 - acc: 0.8840 - val_loss: 0.5804 - val_acc: 0.8843\n",
      "Epoch 10/30\n",
      "668/668 [==============================] - 11s 16ms/step - loss: 0.5676 - acc: 0.8877 - val_loss: 0.5657 - val_acc: 0.8880\n",
      "Epoch 11/30\n",
      "668/668 [==============================] - 11s 17ms/step - loss: 0.5518 - acc: 0.8936 - val_loss: 0.5499 - val_acc: 0.8911\n",
      "Epoch 12/30\n",
      "668/668 [==============================] - 11s 17ms/step - loss: 0.5342 - acc: 0.8958 - val_loss: 0.5316 - val_acc: 0.9006\n",
      "Epoch 13/30\n",
      "668/668 [==============================] - 11s 17ms/step - loss: 0.5151 - acc: 0.9060 - val_loss: 0.5116 - val_acc: 0.9120\n",
      "Epoch 14/30\n",
      "668/668 [==============================] - 11s 17ms/step - loss: 0.4944 - acc: 0.9150 - val_loss: 0.4901 - val_acc: 0.9162\n",
      "Epoch 15/30\n",
      "668/668 [==============================] - 11s 17ms/step - loss: 0.4730 - acc: 0.9194 - val_loss: 0.4684 - val_acc: 0.9216\n",
      "Epoch 16/30\n",
      "668/668 [==============================] - 11s 17ms/step - loss: 0.4514 - acc: 0.9244 - val_loss: 0.4470 - val_acc: 0.9248\n",
      "Epoch 17/30\n",
      "668/668 [==============================] - 11s 17ms/step - loss: 0.4304 - acc: 0.9276 - val_loss: 0.4258 - val_acc: 0.9264\n",
      "Epoch 18/30\n",
      "668/668 [==============================] - 11s 17ms/step - loss: 0.4097 - acc: 0.9305 - val_loss: 0.4051 - val_acc: 0.9309\n",
      "Epoch 19/30\n",
      "668/668 [==============================] - 13s 20ms/step - loss: 0.3893 - acc: 0.9316 - val_loss: 0.3854 - val_acc: 0.9346\n",
      "Epoch 20/30\n",
      "668/668 [==============================] - 15s 22ms/step - loss: 0.3700 - acc: 0.9373 - val_loss: 0.3655 - val_acc: 0.9397\n",
      "Epoch 21/30\n",
      "668/668 [==============================] - 14s 21ms/step - loss: 0.3508 - acc: 0.9415 - val_loss: 0.3465 - val_acc: 0.9442\n",
      "Epoch 22/30\n",
      "668/668 [==============================] - 14s 22ms/step - loss: 0.3326 - acc: 0.9456 - val_loss: 0.3284 - val_acc: 0.9477\n",
      "Epoch 23/30\n",
      "668/668 [==============================] - 13s 19ms/step - loss: 0.3151 - acc: 0.9498 - val_loss: 0.3112 - val_acc: 0.9516\n",
      "Epoch 24/30\n",
      "668/668 [==============================] - 15s 22ms/step - loss: 0.2986 - acc: 0.9537 - val_loss: 0.2946 - val_acc: 0.9554\n",
      "Epoch 25/30\n",
      "668/668 [==============================] - 13s 20ms/step - loss: 0.2828 - acc: 0.9563 - val_loss: 0.2786 - val_acc: 0.9578\n",
      "Epoch 26/30\n",
      "668/668 [==============================] - 14s 21ms/step - loss: 0.2673 - acc: 0.9592 - val_loss: 0.2632 - val_acc: 0.9602\n",
      "Epoch 27/30\n",
      "668/668 [==============================] - 13s 19ms/step - loss: 0.2526 - acc: 0.9629 - val_loss: 0.2482 - val_acc: 0.9658\n",
      "Epoch 28/30\n",
      "668/668 [==============================] - 13s 20ms/step - loss: 0.2383 - acc: 0.9667 - val_loss: 0.2338 - val_acc: 0.9699\n",
      "Epoch 29/30\n",
      "668/668 [==============================] - 14s 20ms/step - loss: 0.2246 - acc: 0.9699 - val_loss: 0.2207 - val_acc: 0.9715\n",
      "Epoch 30/30\n",
      "668/668 [==============================] - 13s 20ms/step - loss: 0.2119 - acc: 0.9714 - val_loss: 0.2077 - val_acc: 0.9731\n"
     ]
    }
   ],
   "source": [
    "rnn_model.compile(loss      =  'categorical_crossentropy',\n",
    "                  optimizer =  'adam',\n",
    "                  metrics   =  ['acc'])\n",
    "rnn_model.summary()\n",
    "rnn_training = rnn_model.fit(X_train, Y_train, batch_size=32, epochs=30, validation_data=(X_validation, Y_validation))"
   ]
  },
  {
   "cell_type": "code",
   "execution_count": 33,
   "metadata": {},
   "outputs": [
    {
     "data": {
      "image/png": "[encoded data removed]",
      "text/plain": [
       "<Figure size 432x288 with 1 Axes>"
      ]
     },
     "metadata": {
      "needs_background": "light"
     },
     "output_type": "display_data"
    }
   ],
   "source": [
    "# visualise training history\n",
    "plt.plot(rnn_training.history['acc'])\n",
    "plt.plot(rnn_training.history['val_acc'])\n",
    "plt.title('model accuracy')\n",
    "plt.ylabel('accuracy')\n",
    "plt.xlabel('epoch')\n",
    "plt.legend(['train', 'test'], loc=\"lower right\")\n",
    "plt.show()"
   ]
  },
  {
   "cell_type": "code",
   "execution_count": null,
   "metadata": {},
   "outputs": [],
   "source": []
  }
 ],
 "metadata": {
  "kernelspec": {
   "display_name": "Python 3",
   "language": "python",
   "name": "python3"
  },
  "language_info": {
   "codemirror_mode": {
    "name": "ipython",
    "version": 3
   },
   "file_extension": ".py",
   "mimetype": "text/x-python",
   "name": "python",
   "nbconvert_exporter": "python",
   "pygments_lexer": "ipython3",
   "version": "3.7.4"
  }
 },
 "nbformat": 4,
 "nbformat_minor": 4
}
